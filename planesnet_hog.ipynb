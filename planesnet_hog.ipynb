{
 "cells": [
  {
   "cell_type": "markdown",
   "metadata": {},
   "source": [
    "## Import Libs"
   ]
  },
  {
   "cell_type": "code",
   "execution_count": 55,
   "metadata": {},
   "outputs": [],
   "source": [
    "import os\n",
    "import time\n",
    "import random\n",
    "import glob\n",
    "import random\n",
    "import numpy as np\n",
    "import pandas as pd\n",
    "import matplotlib.pyplot as plt\n",
    "import cv2"
   ]
  },
  {
   "cell_type": "markdown",
   "metadata": {},
   "source": [
    "## store pictures and labels"
   ]
  },
  {
   "cell_type": "code",
   "execution_count": 56,
   "metadata": {},
   "outputs": [],
   "source": [
    "pictures = []\n",
    "labels = []\n",
    "planesnet_dir = ('planesnet')\n",
    "\n",
    "#%% load images\n",
    "files = glob.glob (planesnet_dir + \"/*.png\") # image path\n",
    "# shuffle\n",
    "random.Random(42).shuffle(files)\n",
    "\n",
    "for picture in files:\n",
    "    image = cv2.imread (picture)\n",
    "    im_name = picture.replace(planesnet_dir + \"\\\\\",\"\")\n",
    "    labels.append(im_name[0])\n",
    "    pictures.append(image)"
   ]
  },
  {
   "cell_type": "code",
   "execution_count": 57,
   "metadata": {},
   "outputs": [
    {
     "data": {
      "text/plain": [
       "Text(0.5, 1.0, '1')"
      ]
     },
     "execution_count": 57,
     "metadata": {},
     "output_type": "execute_result"
    },
    {
     "data": {
      "image/png": "[encoded data removed]",
      "text/plain": [
       "<Figure size 432x288 with 1 Axes>"
      ]
     },
     "metadata": {
      "needs_background": "light"
     },
     "output_type": "display_data"
    }
   ],
   "source": [
    "plt.imshow(pictures[0])\n",
    "plt.title(labels[0])"
   ]
  },
  {
   "cell_type": "markdown",
   "metadata": {},
   "source": [
    "## Create HOG Features"
   ]
  },
  {
   "cell_type": "code",
   "execution_count": 58,
   "metadata": {},
   "outputs": [
    {
     "name": "stdout",
     "output_type": "stream",
     "text": [
      "total count of features:  1089\n"
     ]
    }
   ],
   "source": [
    "## params\n",
    "winSize = (20,20)\n",
    "blockSize = (10,10)\n",
    "blockStride = (1,1)\n",
    "cellSize = (10,10)\n",
    "nbins = 9\n",
    "derivAperture = 1\n",
    "winSigma = -1.\n",
    "histogramNormType = 0\n",
    "L2HysThreshold = 0.2\n",
    "gammaCorrection = 1\n",
    "nlevels = 64\n",
    "signedGradients = True\n",
    " \n",
    "hog = cv2.HOGDescriptor(winSize,blockSize,blockStride,cellSize,nbins,derivAperture,winSigma,histogramNormType,L2HysThreshold,gammaCorrection,nlevels, signedGradients)\n",
    "\n",
    "hog_features = []\n",
    "\n",
    "for picture in pictures:\n",
    "    descriptor = hog.compute(picture)\n",
    "    hog_features.append(descriptor)\n",
    "\n",
    "num_features = descriptor.shape[0]\n",
    "print(\"total count of features: \", num_features)"
   ]
  },
  {
   "cell_type": "markdown",
   "metadata": {},
   "source": [
    "## Split Dataset"
   ]
  },
  {
   "cell_type": "code",
   "execution_count": 61,
   "metadata": {},
   "outputs": [],
   "source": [
    "# take smaller amount of images for developing\n",
    "develop = True\n",
    "\n",
    "# 32,000 Instanzen - 20,480 Train, 5,120 Val, 6400 Test\n",
    "if develop:\n",
    "    X_train = np.array(hog_features[0:5000]).reshape(5000,num_features)\n",
    "    y_train = np.array(labels[0:5000])\n",
    "    X_val = np.array(hog_features[5000:6000]).reshape(1000,num_features)\n",
    "    y_val = np.array(labels[5000:6000])\n",
    "    X_test = np.array(hog_features[6000:7000]).reshape(1000,num_features)\n",
    "    y_test = np.array(labels[6000:7000])\n",
    "else:\n",
    "    X_train = np.array(hog_features[0:20480]).reshape(20480,num_features)\n",
    "    y_train = np.array(labels[0:20480])\n",
    "    X_val = np.array(hog_features[20480:25600]).reshape(5120,num_features)\n",
    "    y_val = np.array(labels[20480:25600])\n",
    "    X_test = np.array(hog_features[25600:]).reshape(6400,num_features)\n",
    "    y_test = np.array(labels[25600:])"
   ]
  },
  {
   "cell_type": "code",
   "execution_count": 62,
   "metadata": {},
   "outputs": [
    {
     "data": {
      "text/plain": [
       "(1089, 1)"
      ]
     },
     "execution_count": 62,
     "metadata": {},
     "output_type": "execute_result"
    }
   ],
   "source": [
    "hog_features[0].shape"
   ]
  },
  {
   "cell_type": "markdown",
   "metadata": {},
   "source": [
    "## Train baseline model"
   ]
  },
  {
   "cell_type": "code",
   "execution_count": 63,
   "metadata": {},
   "outputs": [
    {
     "name": "stdout",
     "output_type": "stream",
     "text": [
      "accuracy score of baseline model:  0.905\n",
      "elapsed time:  10.44  seconds\n"
     ]
    }
   ],
   "source": [
    "from sklearn.svm import SVC\n",
    "import timeit\n",
    "\n",
    "clf = SVC(kernel='linear', random_state=42)\n",
    "start = timeit.default_timer()\n",
    "clf.fit(X_train, y_train)\n",
    "stop = timeit.default_timer()\n",
    "accuracy = clf.score(X_val, y_val)\n",
    "print(\"accuracy score of baseline model: \", accuracy)\n",
    "print('elapsed time: ', round(stop - start, 2), \" seconds\")  "
   ]
  },
  {
   "cell_type": "markdown",
   "metadata": {},
   "source": [
    "## Principal Component Analysis (PCA)"
   ]
  },
  {
   "cell_type": "code",
   "execution_count": 64,
   "metadata": {},
   "outputs": [
    {
     "name": "stdout",
     "output_type": "stream",
     "text": [
      "number of features after pca:  89\n"
     ]
    }
   ],
   "source": [
    "from sklearn.decomposition import PCA\n",
    "\n",
    "# keep componets to optain 95% of the explained variance\n",
    "pca = PCA(.95)\n",
    "pca.fit(X_train)\n",
    "X_train_decomposed = pca.transform(X_train)\n",
    "X_val_decomposed = pca.transform(X_val)\n",
    "X_test_decomposed = pca.transform(X_test)\n",
    "\n",
    "print(\"number of features after pca: \", pca.n_components_)"
   ]
  },
  {
   "cell_type": "markdown",
   "metadata": {},
   "source": [
    "## Train baseline model after pca"
   ]
  },
  {
   "cell_type": "code",
   "execution_count": 65,
   "metadata": {},
   "outputs": [
    {
     "name": "stdout",
     "output_type": "stream",
     "text": [
      "arruracy score of baseline model after pca:  0.902\n",
      "elapsed time:  1.57  seconds\n"
     ]
    }
   ],
   "source": [
    "clf = SVC(kernel='linear', random_state=42)\n",
    "start = timeit.default_timer()\n",
    "clf.fit(X_train_decomposed, y_train)\n",
    "stop = timeit.default_timer()\n",
    "accuracy = clf.score(X_val_decomposed, y_val)\n",
    "print(\"arruracy score of baseline model after pca: \", accuracy)\n",
    "print('elapsed time: ', round(stop - start, 2), \" seconds\") "
   ]
  },
  {
   "cell_type": "markdown",
   "metadata": {},
   "source": [
    "## Grid Search"
   ]
  },
  {
   "cell_type": "code",
   "execution_count": 66,
   "metadata": {},
   "outputs": [],
   "source": [
    "from sklearn.model_selection import GridSearchCV\n",
    "\n",
    "param_grid = {'kernel': ['linear','rbf'],\n",
    "              'C': [0.001,0.01,0.1,1,10,100],\n",
    "              'gamma': [0.001,0.01,0.1,1,10,100]}\n",
    "\n",
    "grid_search = GridSearchCV(estimator=SVC(), param_grid=param_grid, cv=5, verbose=0)\n",
    "grid_search.fit(X_train_decomposed, y_train)\n",
    "best_model = grid_search.best_estimator_        \n",
    "best_idx = grid_search.best_index_\n",
    "grid_results = pd.DataFrame(grid_search.cv_results_)"
   ]
  },
  {
   "cell_type": "markdown",
   "metadata": {},
   "source": [
    "## Evaluation"
   ]
  },
  {
   "cell_type": "code",
   "execution_count": 77,
   "metadata": {
    "scrolled": true
   },
   "outputs": [
    {
     "name": "stdout",
     "output_type": "stream",
     "text": [
      " ### Validation Set ### \n",
      "confusion matrix:\n",
      "[[731  14]\n",
      " [ 24 231]]\n",
      "\n",
      "Accuracy:  0.962\n",
      "\n",
      "\n",
      "              precision    recall  f1-score   support\n",
      "\n",
      "    no plane       0.97      0.98      0.97       745\n",
      "       plane       0.94      0.91      0.92       255\n",
      "\n",
      "    accuracy                           0.96      1000\n",
      "   macro avg       0.96      0.94      0.95      1000\n",
      "weighted avg       0.96      0.96      0.96      1000\n",
      "\n",
      "### Test Set ### \n",
      "confusion matrix:\n",
      "[[724  18]\n",
      " [ 22 236]]\n",
      "\n",
      "Accuracy:  0.96\n",
      "\n",
      "\n",
      "              precision    recall  f1-score   support\n",
      "\n",
      "    no plane       0.97      0.98      0.97       742\n",
      "       plane       0.93      0.91      0.92       258\n",
      "\n",
      "    accuracy                           0.96      1000\n",
      "   macro avg       0.95      0.95      0.95      1000\n",
      "weighted avg       0.96      0.96      0.96      1000\n",
      "\n"
     ]
    }
   ],
   "source": [
    "from sklearn.metrics import classification_report,accuracy_score,confusion_matrix\n",
    "y_pred_val = grid_search.predict(X_val_decomposed)\n",
    "y_pred_test = grid_search.predict(X_test_decomposed)\n",
    "print(\" ### Validation Set ### \")\n",
    "print(\"confusion matrix:\")\n",
    "print(confusion_matrix(y_val, y_pred_val))\n",
    "print(\"\")\n",
    "print(\"Accuracy: \", accuracy_score(y_val, y_pred_val))\n",
    "print('\\n')\n",
    "print(classification_report(y_val, y_pred_val, target_names=[\"no plane\",\"plane\"]))\n",
    "\n",
    "\n",
    "print(\"### Test Set ### \")\n",
    "print(\"confusion matrix:\")\n",
    "print(confusion_matrix(y_test, y_pred_test))\n",
    "print(\"\")\n",
    "print(\"Accuracy: \", accuracy_score(y_test, y_pred_test))\n",
    "print('\\n')\n",
    "print(classification_report(y_test, y_pred_test, target_names=[\"no plane\",\"plane\"]))"
   ]
  },
  {
   "cell_type": "code",
   "execution_count": null,
   "metadata": {},
   "outputs": [],
   "source": []
  }
 ],
 "metadata": {
  "kernelspec": {
   "display_name": "Python 3",
   "language": "python",
   "name": "python3"
  },
  "language_info": {
   "codemirror_mode": {
    "name": "ipython",
    "version": 3
   },
   "file_extension": ".py",
   "mimetype": "text/x-python",
   "name": "python",
   "nbconvert_exporter": "python",
   "pygments_lexer": "ipython3",
   "version": "3.7.4"
  }
 },
 "nbformat": 4,
 "nbformat_minor": 2
}
